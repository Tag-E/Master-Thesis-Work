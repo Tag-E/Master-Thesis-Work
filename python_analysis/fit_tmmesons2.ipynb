{
 "cells": [
  {
   "cell_type": "markdown",
   "id": "115604c1-c0de-4e87-8aa0-b8961efc4c24",
   "metadata": {},
   "source": [
    "# Library Import"
   ]
  },
  {
   "cell_type": "code",
   "execution_count": 1,
   "id": "28ce5bdd-7f61-4ac5-b1ae-309ce03d20ad",
   "metadata": {},
   "outputs": [],
   "source": [
    "#to display all output\n",
    "from IPython.core.interactiveshell import InteractiveShell\n",
    "InteractiveShell.ast_node_interactivity = \"all\""
   ]
  },
  {
   "cell_type": "code",
   "execution_count": 2,
   "id": "3e8ca912-89fb-4784-9e2a-a491c1544b15",
   "metadata": {},
   "outputs": [],
   "source": [
    "%matplotlib inline\n",
    "import numpy as np\n",
    "import matplotlib.pyplot as plt\n",
    "\n",
    "#import scipy\n",
    "import struct\n",
    "\n",
    "from pathlib import Path\n",
    "from sympy import divisors\n",
    "\n",
    "from astropy.stats import jackknife_resampling\n",
    "from astropy.stats import jackknife_stats\n",
    "\n",
    "from scipy.stats import bootstrap\n",
    "\n",
    "from scipy.optimize import curve_fit #for the fit"
   ]
  },
  {
   "cell_type": "markdown",
   "id": "96304aae-001b-4ee2-b70b-afcbc53c6c3e",
   "metadata": {},
   "source": [
    "# Input Reading"
   ]
  },
  {
   "cell_type": "code",
   "execution_count": 3,
   "id": "e9f6488e-778f-41d4-adcb-34f620d783c4",
   "metadata": {},
   "outputs": [],
   "source": [
    "#dirName = '../mesons-master/build/dat/'\n",
    "#name = 'odd_prova26.odd_df2_4fop'\n",
    "dirName = '../../data_from_scp/'\n",
    "#name = 'tm_mesons_run3.mesons'\n",
    "name = 'tm_mesons_run6.mesons'\n",
    "datName = name + '.dat'\n",
    "\n",
    "fileName = dirName + datName"
   ]
  },
  {
   "cell_type": "code",
   "execution_count": 4,
   "id": "b3e51fa3-b7b5-48f2-90c7-bde26ca82d77",
   "metadata": {},
   "outputs": [],
   "source": [
    "plot_base_dir = 'plots/'\n",
    "plot_dir = 'plot_'+name.split('.')[0]\n",
    "Path(plot_base_dir+plot_dir).mkdir(parents=True, exist_ok=True)"
   ]
  },
  {
   "cell_type": "code",
   "execution_count": 5,
   "id": "f50332b4-313c-419d-8a9a-2993bbd2bab5",
   "metadata": {},
   "outputs": [],
   "source": [
    "verbose=True #True to print more output\n",
    "\n",
    "step = 1 #steps at which configurations are read\n",
    "\n",
    "early_stop = 0 #number of configurations (counting from the end) not read"
   ]
  },
  {
   "cell_type": "code",
   "execution_count": 6,
   "id": "a9242a49-97c1-4a85-931e-8e9e5c98afda",
   "metadata": {},
   "outputs": [
    {
     "name": "stdout",
     "output_type": "stream",
     "text": [
      "Reading: Gauge Conf = 1\n",
      "\n",
      "Reading: Gauge Conf = 2\n",
      "\n",
      "Reading: Gauge Conf = 3\n",
      "\n",
      "Reading: Gauge Conf = 4\n",
      "\n",
      "Reading: Gauge Conf = 5\n",
      "\n",
      "Reading: Gauge Conf = 6\n",
      "\n",
      "Reading: Gauge Conf = 7\n",
      "\n",
      "Reading: Gauge Conf = 8\n",
      "\n",
      "Reading: Gauge Conf = 9\n",
      "\n",
      "Reading: Gauge Conf = 10\n",
      "\n",
      "Reading: Gauge Conf = 11\n",
      "\n",
      "Reading: Gauge Conf = 12\n",
      "\n",
      "Reading: Gauge Conf = 13\n",
      "\n",
      "Reading: Gauge Conf = 14\n",
      "\n",
      "Reading: Gauge Conf = 15\n",
      "\n",
      "Reading: Gauge Conf = 16\n",
      "\n",
      "Reading: Gauge Conf = 17\n",
      "\n",
      "Reading: Gauge Conf = 18\n",
      "\n",
      "Reading: Gauge Conf = 19\n",
      "\n",
      "Reading: Gauge Conf = 20\n",
      "\n",
      "Reading: Gauge Conf = 21\n",
      "\n",
      "Reading: Gauge Conf = 22\n",
      "\n",
      "Reading: Gauge Conf = 23\n",
      "\n",
      "Reading: Gauge Conf = 24\n",
      "\n",
      "Reading: Gauge Conf = 25\n",
      "\n",
      "Reading: Gauge Conf = 26\n",
      "\n",
      "Reading: Gauge Conf = 27\n",
      "\n",
      "Reading: Gauge Conf = 28\n",
      "\n",
      "Reading: Gauge Conf = 29\n",
      "\n",
      "Reading: Gauge Conf = 30\n",
      "\n",
      "Reading: Gauge Conf = 31\n",
      "\n",
      "Reading: Gauge Conf = 32\n",
      "\n",
      "Reading: Gauge Conf = 33\n",
      "\n",
      "Reading: Gauge Conf = 34\n",
      "\n",
      "Reading: Gauge Conf = 35\n",
      "\n",
      "Reading: Gauge Conf = 36\n",
      "\n",
      "Reading: Gauge Conf = 37\n",
      "\n",
      "Reading: Gauge Conf = 38\n",
      "\n",
      "Reading: Gauge Conf = 39\n",
      "\n",
      "Reading: Gauge Conf = 40\n",
      "\n",
      "Reading: Gauge Conf = 41\n",
      "\n",
      "Reading: Gauge Conf = 42\n",
      "\n",
      "Reading: Gauge Conf = 43\n",
      "\n",
      "Reading: Gauge Conf = 44\n",
      "\n",
      "Reading: Gauge Conf = 45\n",
      "\n",
      "Reading: Gauge Conf = 46\n",
      "\n",
      "Reading: Gauge Conf = 47\n",
      "\n",
      "Reading: Gauge Conf = 48\n",
      "\n",
      "Reading: Gauge Conf = 49\n",
      "\n",
      "Reading: Gauge Conf = 50\n",
      "\n",
      "Reading: Gauge Conf = 51\n",
      "\n",
      "Reading: Gauge Conf = 52\n",
      "\n",
      "Reading: Gauge Conf = 53\n",
      "\n",
      "Reading: Gauge Conf = 54\n",
      "\n",
      "Reading: Gauge Conf = 55\n",
      "\n",
      "Reading: Gauge Conf = 56\n",
      "\n",
      "Reading: Gauge Conf = 57\n",
      "\n",
      "Reading: Gauge Conf = 58\n",
      "\n",
      "Reading: Gauge Conf = 59\n",
      "\n",
      "Reading: Gauge Conf = 60\n",
      "\n",
      "Reading: Gauge Conf = 61\n",
      "\n",
      "Reading: Gauge Conf = 62\n",
      "\n",
      "Reading: Gauge Conf = 63\n",
      "\n",
      "Reading: Gauge Conf = 64\n",
      "\n",
      "Reading: Gauge Conf = 65\n",
      "\n",
      "Reading: Gauge Conf = 66\n",
      "\n",
      "Reading: Gauge Conf = 67\n",
      "\n",
      "Reading: Gauge Conf = 68\n",
      "\n",
      "Reading: Gauge Conf = 69\n",
      "\n",
      "Reading: Gauge Conf = 70\n",
      "\n",
      "Reading: Gauge Conf = 71\n",
      "\n",
      "Reading: Gauge Conf = 72\n",
      "\n",
      "Reading: Gauge Conf = 73\n",
      "\n",
      "Reading: Gauge Conf = 74\n",
      "\n",
      "Reading: Gauge Conf = 75\n",
      "\n",
      "Reading: Gauge Conf = 76\n",
      "\n",
      "Reading: Gauge Conf = 77\n",
      "\n",
      "Reading: Gauge Conf = 78\n",
      "\n",
      "Reading: Gauge Conf = 79\n",
      "\n",
      "Reading: Gauge Conf = 80\n",
      "\n",
      "Reading: Gauge Conf = 81\n",
      "\n",
      "Reading: Gauge Conf = 82\n",
      "\n",
      "Reading: Gauge Conf = 83\n",
      "\n",
      "Reading: Gauge Conf = 84\n",
      "\n",
      "Reading: Gauge Conf = 85\n",
      "\n",
      "Reading: Gauge Conf = 86\n",
      "\n",
      "Reading: Gauge Conf = 87\n",
      "\n",
      "Reading: Gauge Conf = 88\n",
      "\n",
      "Reading: Gauge Conf = 89\n",
      "\n",
      "Reading: Gauge Conf = 90\n",
      "\n",
      "Reading: Gauge Conf = 91\n",
      "\n",
      "Reading: Gauge Conf = 92\n",
      "\n",
      "Reading: Gauge Conf = 93\n",
      "\n",
      "Reading: Gauge Conf = 94\n",
      "\n",
      "Reading: Gauge Conf = 95\n",
      "\n",
      "Reading: Gauge Conf = 96\n",
      "\n",
      "Reading: Gauge Conf = 97\n",
      "\n",
      "Reading: Gauge Conf = 98\n",
      "\n",
      "Reading: Gauge Conf = 99\n",
      "\n",
      "Reading: Gauge Conf = 100\n",
      "\n"
     ]
    }
   ],
   "source": [
    "#the correlators array will be stored in a dict having as keys the configurations\n",
    "conf_dict = {}\n",
    "\n",
    "#list with configurations number\n",
    "conf_num_list = []\n",
    "\n",
    "##### reading data from binary dat file #####\n",
    "with open(fileName, mode='rb') as file: # b is important -> binary\n",
    "    fileContent = file.read()\n",
    "\n",
    "    #header is made up of 4 integers, 4x4=16byte\n",
    "    header_size= 4*4\n",
    "\n",
    "    #first 16 byte are four 4-byte integers\n",
    "    ncorr, nnoise, tvals, noise_type = struct.unpack(\"iiii\", fileContent[:header_size])\n",
    "\n",
    "    #initialization of correlators' variables\n",
    "    k1=['']*ncorr\n",
    "    k2=['']*ncorr\n",
    "    \n",
    "    mu1=['']*ncorr\n",
    "    mu2=['']*ncorr\n",
    "\n",
    "    type1=['']*ncorr\n",
    "    type2=['']*ncorr\n",
    "    \n",
    "    x0=['']*ncorr\n",
    "    isreal=['']*ncorr\n",
    "\n",
    "    \n",
    "    #each correlator has an header of size given by 4x8 + 4x4 = 48byte\n",
    "    corr_header_size = 4*8 + 4*4\n",
    "    \n",
    "    #then there are ncorr block, 8x8 + 4x4 (8 double and 4 int) with the following structure \n",
    "    for i in range(ncorr):\n",
    "         k1[i], k2[i], mu1[i], mu2[i], type1[i], type2[i], x0[i], isreal[i] = struct.unpack(\"ddddiiii\",fileContent[header_size+corr_header_size*i:header_size+corr_header_size*(i+1)])\n",
    "\n",
    "\n",
    "\n",
    "    #initialization of correlators array\n",
    "    corr = np.empty(shape=(ncorr,tvals,nnoise),dtype=complex) #correlators\n",
    "    \n",
    "\n",
    "    #configuration start right after the header\n",
    "    first_conf = header_size+corr_header_size*ncorr\n",
    "    \n",
    "    #we compute the lenght of the data block for each configuration\n",
    "    #          sizeof(int) (=confNumber)           ncorr * nnoise * tvals * 2 (re+im) * 8 (sizeof(double))\n",
    "    conf_len = 4                                 +  nnoise * tvals * (2*ncorr - np.sum(isreal))         * 8         \n",
    "    #the term with isreal is there because for real correlators only the real part gets stored\n",
    "\n",
    "    #starting right after the header we read each configuration block\n",
    "    for start_conf in range(first_conf, len(fileContent)-conf_len*early_stop, conf_len*step):\n",
    "    #for start_conf in range(first_conf, len(fileContent)-conf_len, conf_len):\n",
    "\n",
    "        #breaks loop if the file does not contain the whole correlator for the given configuration\n",
    "        if start_conf+conf_len > len(fileContent) :\n",
    "            break\n",
    "\n",
    "        #reading of the configuration number\n",
    "        conf_number = struct.unpack(\"i\",fileContent[start_conf:start_conf+4])[0]\n",
    "        if verbose==True:\n",
    "            print(f\"Reading: Gauge Conf = {conf_number}\\n\")\n",
    "\n",
    "        #store of conf num\n",
    "        if conf_number not in conf_num_list:\n",
    "            conf_num_list.append(conf_number)\n",
    "\n",
    "        #initialize to 0 the array storing the correlators\n",
    "        corr.fill(complex(0,0))\n",
    "\n",
    "        #initialize start reading\n",
    "        start_reading = start_conf + 4\n",
    "\n",
    "        #loop over the correlators (ncorr blocks of...)\n",
    "        for ic in range(ncorr):\n",
    "            \n",
    "            #reading of 2 point functions\n",
    "            for t in range(tvals):\n",
    "                \n",
    "                for inoise in range(nnoise):\n",
    "\n",
    "                    if isreal[ic]==0:\n",
    "                        #read re and im\n",
    "                        re,im = struct.unpack(\"dd\",fileContent[start_reading:start_reading+16])\n",
    "                        #store them\n",
    "                        corr[ic][t][inoise] = complex(re,im)\n",
    "                        #update start reading\n",
    "                        start_reading = start_reading+16\n",
    "\n",
    "                    if isreal[ic]==1:\n",
    "                        #read re\n",
    "                        re = struct.unpack(\"d\",fileContent[start_reading:start_reading+8])[0]\n",
    "                        #store it\n",
    "                        corr[ic][t][inoise] = complex(re,0.0)\n",
    "                        #update start reading\n",
    "                        start_reading = start_reading+8\n",
    "                        \n",
    "                    \n",
    "\n",
    "        #store of correlators associated to the given configuration\n",
    "        conf_dict[str(conf_number)] = corr.copy()"
   ]
  },
  {
   "cell_type": "code",
   "execution_count": 7,
   "id": "c67c9ace-7eb9-459d-8ba1-2f24a6dc9002",
   "metadata": {},
   "outputs": [
    {
     "data": {
      "text/plain": [
       "100.0"
      ]
     },
     "execution_count": 7,
     "metadata": {},
     "output_type": "execute_result"
    }
   ],
   "source": [
    "#check on correct lenght calculations\n",
    "(len(fileContent)-header_size-corr_header_size*ncorr)/conf_len"
   ]
  },
  {
   "cell_type": "code",
   "execution_count": 8,
   "id": "ce41ec32-149f-49f7-9188-b4735b1e4558",
   "metadata": {},
   "outputs": [
    {
     "data": {
      "text/plain": [
       "100"
      ]
     },
     "execution_count": 8,
     "metadata": {},
     "output_type": "execute_result"
    }
   ],
   "source": [
    "#construction of array with names and numbers of configurations\n",
    "conf_names = list(conf_dict.keys())\n",
    "conf_list = [int(conf) for conf in conf_names ]\n",
    "nconf = len(conf_list)\n",
    "nconf"
   ]
  },
  {
   "cell_type": "code",
   "execution_count": 9,
   "id": "a9d35102-dfc8-4434-bb90-f660f0dde45f",
   "metadata": {},
   "outputs": [],
   "source": [
    "#creation of a numpy array with all the correlators\n",
    "correlators = np.empty(shape=(nconf,ncorr,tvals,nnoise),dtype=complex)\n",
    "for iconf,nameconf in enumerate(conf_names):\n",
    "    correlators[iconf] = conf_dict[nameconf]"
   ]
  },
  {
   "cell_type": "code",
   "execution_count": 10,
   "id": "84873c72-41e6-400c-ab74-2f1458d29ede",
   "metadata": {},
   "outputs": [
    {
     "name": "stdout",
     "output_type": "stream",
     "text": [
      "(nconf, ncorrelators, tvals, nnoise)\n",
      "(100, 4, 32, 100)\n"
     ]
    }
   ],
   "source": [
    "if verbose:\n",
    "    print(\"(nconf, ncorrelators, tvals, nnoise)\")\n",
    "    print(np.shape(correlators))"
   ]
  },
  {
   "cell_type": "code",
   "execution_count": 11,
   "id": "cd8eacc8-8c4f-4f69-bb2c-ee539f783834",
   "metadata": {},
   "outputs": [
    {
     "name": "stdout",
     "output_type": "stream",
     "text": [
      "k1  = 0.135217\n",
      "\n",
      "k2  = 0.135217\n",
      "\n",
      "mu1 = 0.0454\n",
      "\n",
      "mu2 = 0.0454\n",
      "\n",
      "G1  = 5\n",
      "\n",
      "G2  = 5\n",
      "\n",
      "x0  = 1\n",
      "\n",
      "isr = 1\n",
      "\n",
      "\n",
      "k1  = 0.135217\n",
      "\n",
      "k2  = 0.135217\n",
      "\n",
      "mu1 = 0.0454\n",
      "\n",
      "mu2 = -0.0454\n",
      "\n",
      "G1  = 5\n",
      "\n",
      "G2  = 5\n",
      "\n",
      "x0  = 1\n",
      "\n",
      "isr = 0\n",
      "\n",
      "\n",
      "k1  = 0.135217\n",
      "\n",
      "k2  = 0.135217\n",
      "\n",
      "mu1 = 0.0454\n",
      "\n",
      "mu2 = 0.0454\n",
      "\n",
      "G1  = 5\n",
      "\n",
      "G2  = 5\n",
      "\n",
      "x0  = 30\n",
      "\n",
      "isr = 1\n",
      "\n",
      "\n",
      "k1  = 0.135217\n",
      "\n",
      "k2  = 0.135217\n",
      "\n",
      "mu1 = 0.0454\n",
      "\n",
      "mu2 = -0.0454\n",
      "\n",
      "G1  = 5\n",
      "\n",
      "G2  = 5\n",
      "\n",
      "x0  = 30\n",
      "\n",
      "isr = 0\n",
      "\n",
      "\n"
     ]
    }
   ],
   "source": [
    "if verbose:\n",
    "    for icorr in range(ncorr):\n",
    "        print(f\"k1  = {k1[icorr]}\\n\")\n",
    "        print(f\"k2  = {k2[icorr]}\\n\")\n",
    "        print(f\"mu1 = {mu1[icorr]}\\n\")\n",
    "        print(f\"mu2 = {mu2[icorr]}\\n\")\n",
    "        print(f\"G1  = {type1[icorr]}\\n\")\n",
    "        print(f\"G2  = {type2[icorr]}\\n\")\n",
    "        print(f\"x0  = {x0[icorr]}\\n\")\n",
    "        print(f\"isr = {isreal[icorr]}\\n\\n\")"
   ]
  },
  {
   "cell_type": "code",
   "execution_count": 12,
   "id": "929c7f34-7ebc-49e3-88ee-f95cf5c04ef5",
   "metadata": {},
   "outputs": [
    {
     "name": "stdout",
     "output_type": "stream",
     "text": [
      "(nconf, tvals, nnoise)\n",
      "(100, 32, 100)\n",
      "(100, 32, 100)\n",
      "(100, 32, 100)\n"
     ]
    }
   ],
   "source": [
    "corr_1 = correlators[:,0,:,:]\n",
    "corrTilda_1 = correlators[:,1,:,:]\n",
    "corr_T = correlators[:,2,:,:]\n",
    "corrTilda_T = correlators[:,3,:,:]\n",
    "\n",
    "if verbose:\n",
    "    print(\"(nconf, tvals, nnoise)\")\n",
    "    print(np.shape(corr_1))\n",
    "    print(np.shape(corrTilda_1))\n",
    "    print(np.shape(corrTilda_1))\n",
    "    #print(np.shape(corrTilda_T))"
   ]
  },
  {
   "cell_type": "markdown",
   "id": "6aa6f81f-e672-4a18-977e-1abb969a8fdd",
   "metadata": {},
   "source": [
    "# Average over Noise"
   ]
  },
  {
   "cell_type": "code",
   "execution_count": 13,
   "id": "e1a7e6ef-a224-4c83-bb32-53f5de325512",
   "metadata": {},
   "outputs": [
    {
     "name": "stdout",
     "output_type": "stream",
     "text": [
      "(nconf, tvals)\n",
      "(100, 32)\n",
      "(100, 32)\n",
      "(100, 32)\n",
      "(100, 32)\n"
     ]
    }
   ],
   "source": [
    "corr_1_navg = corr_1.mean(axis=-1)\n",
    "corrTilda_1_navg = corrTilda_1.mean(axis=-1)\n",
    "corr_T_navg = corr_T.mean(axis=-1)\n",
    "corrTilda_T_navg = corrTilda_T.mean(axis=-1)\n",
    "\n",
    "if verbose:\n",
    "    print(\"(nconf, tvals)\")\n",
    "    print(np.shape(corr_1_navg))\n",
    "    print(np.shape(corrTilda_1_navg))\n",
    "    print(np.shape(corr_T_navg))\n",
    "    print(np.shape(corrTilda_T_navg))"
   ]
  },
  {
   "cell_type": "code",
   "execution_count": 14,
   "id": "5dc205dc-8831-4d99-b38a-20ebc8f5c41d",
   "metadata": {},
   "outputs": [
    {
     "name": "stderr",
     "output_type": "stream",
     "text": [
      "/tmp/ipykernel_61351/2706896938.py:2: RuntimeWarning: invalid value encountered in divide\n",
      "  np.mean(np.abs((corrTilda_1_navg.imag/corrTilda_1_navg.real)[:,1:-1]))\n"
     ]
    },
    {
     "data": {
      "text/plain": [
       "0.009810234418873989"
      ]
     },
     "execution_count": 14,
     "metadata": {},
     "output_type": "execute_result"
    }
   ],
   "source": [
    "#the correlator with a twisted term is not real\n",
    "np.mean(np.abs((corrTilda_1_navg.imag/corrTilda_1_navg.real)[:,1:-1]))"
   ]
  },
  {
   "cell_type": "markdown",
   "id": "11ad0d90-0a16-4bc0-996a-79f11f47280d",
   "metadata": {},
   "source": [
    "# Preliminary Plots and Analysys"
   ]
  },
  {
   "cell_type": "code",
   "execution_count": 15,
   "id": "3c050de1-5abc-4b4e-8714-8f56e76ea8f0",
   "metadata": {},
   "outputs": [
    {
     "data": {
      "text/plain": [
       "Text(0.5, 1.0, 'cut = 1    -    corr_1')"
      ]
     },
     "execution_count": 15,
     "metadata": {},
     "output_type": "execute_result"
    },
    {
     "data": {
      "text/plain": [
       "[<matplotlib.lines.Line2D at 0x75f14d84cc10>]"
      ]
     },
     "execution_count": 15,
     "metadata": {},
     "output_type": "execute_result"
    },
    {
     "data": {
      "image/png": "[encoded data removed]",
      "text/plain": [
       "<Figure size 640x480 with 1 Axes>"
      ]
     },
     "metadata": {},
     "output_type": "display_data"
    }
   ],
   "source": [
    "times = np.arange(tvals)\n",
    "\n",
    "cut = 1\n",
    "plt.title(f\"cut = {cut}    -    corr_1\")\n",
    "#plt.yscale('log')\n",
    "plt.plot(times[cut:-cut],np.mean(corr_1_navg,axis=0).real[cut:-cut], '-o',linewidth = 1)"
   ]
  },
  {
   "cell_type": "code",
   "execution_count": 16,
   "id": "fe2fa36a-a854-4fb9-8cf1-4c1e9f094151",
   "metadata": {},
   "outputs": [
    {
     "data": {
      "text/plain": [
       "Text(0.5, 1.0, 'cut = 1    -    corr_T')"
      ]
     },
     "execution_count": 16,
     "metadata": {},
     "output_type": "execute_result"
    },
    {
     "data": {
      "text/plain": [
       "[<matplotlib.lines.Line2D at 0x75f14b3cd900>]"
      ]
     },
     "execution_count": 16,
     "metadata": {},
     "output_type": "execute_result"
    },
    {
     "data": {
      "image/png": "[encoded data removed]",
      "text/plain": [
       "<Figure size 640x480 with 1 Axes>"
      ]
     },
     "metadata": {},
     "output_type": "display_data"
    }
   ],
   "source": [
    "times = np.arange(tvals)\n",
    "\n",
    "cut = 1\n",
    "plt.title(f\"cut = {cut}    -    corr_T\")\n",
    "#plt.yscale('log')\n",
    "plt.plot(times[cut:-cut],np.mean(corr_T_navg,axis=0).real[cut:-cut], '-o',linewidth = 1)"
   ]
  },
  {
   "cell_type": "code",
   "execution_count": 17,
   "id": "3c665197-bafd-464e-8bd1-1d4351d3101e",
   "metadata": {},
   "outputs": [
    {
     "data": {
      "text/plain": [
       "Text(0.5, 1.0, 'cut = 1    -    corrTilda_1')"
      ]
     },
     "execution_count": 17,
     "metadata": {},
     "output_type": "execute_result"
    },
    {
     "data": {
      "text/plain": [
       "[<matplotlib.lines.Line2D at 0x75f14923fac0>]"
      ]
     },
     "execution_count": 17,
     "metadata": {},
     "output_type": "execute_result"
    },
    {
     "data": {
      "image/png": "[encoded data removed]",
      "text/plain": [
       "<Figure size 640x480 with 1 Axes>"
      ]
     },
     "metadata": {},
     "output_type": "display_data"
    }
   ],
   "source": [
    "times = np.arange(tvals)\n",
    "\n",
    "cut = 1\n",
    "plt.title(f\"cut = {cut}    -    corrTilda_1\")\n",
    "#plt.yscale('log')\n",
    "plt.plot(times[cut:-cut],np.mean(corrTilda_1_navg,axis=0).real[cut:-cut], '-o',linewidth = 1)\n",
    "#plt.plot(times[cut:-cut],np.mean(corrTilda_1_navg,axis=0).imag[cut:-cut], '-o',linewidth = 1)"
   ]
  },
  {
   "cell_type": "code",
   "execution_count": 18,
   "id": "c049d398-f704-4418-8404-c4b859d76ffd",
   "metadata": {},
   "outputs": [
    {
     "data": {
      "text/plain": [
       "Text(0.5, 1.0, 'cut = 1    -    corrTilda_T')"
      ]
     },
     "execution_count": 18,
     "metadata": {},
     "output_type": "execute_result"
    },
    {
     "data": {
      "text/plain": [
       "[<matplotlib.lines.Line2D at 0x75f1492c6d40>]"
      ]
     },
     "execution_count": 18,
     "metadata": {},
     "output_type": "execute_result"
    },
    {
     "data": {
      "image/png": "[encoded data removed]",
      "text/plain": [
       "<Figure size 640x480 with 1 Axes>"
      ]
     },
     "metadata": {},
     "output_type": "display_data"
    }
   ],
   "source": [
    "\n",
    "times = np.arange(tvals)\n",
    "\n",
    "cut = 1\n",
    "plt.title(f\"cut = {cut}    -    corrTilda_T\")\n",
    "#plt.yscale('log')\n",
    "plt.plot(times[cut:-cut],np.mean(corrTilda_T_navg,axis=0).real[cut:-cut], '-o',linewidth = 1)\n",
    "#plt.plot(times[cut:-cut],np.mean(corrTilda_T_navg,axis=0).imag[cut:-cut], '-o',linewidth = 1)"
   ]
  },
  {
   "cell_type": "markdown",
   "id": "f6c31845-ac6d-48c8-b8b6-e506f6915708",
   "metadata": {},
   "source": [
    "# Mass extraction"
   ]
  },
  {
   "cell_type": "markdown",
   "id": "c149c4c5-f6c9-45f6-9922-744f63c5f891",
   "metadata": {},
   "source": [
    "## mass from log"
   ]
  },
  {
   "cell_type": "markdown",
   "id": "99b595b9-afb1-4255-8446-dced9271b723",
   "metadata": {},
   "source": [
    "### jackknife first"
   ]
  },
  {
   "cell_type": "code",
   "execution_count": 53,
   "id": "d0aee8ab-5589-4d70-9006-1f1496a2781b",
   "metadata": {},
   "outputs": [],
   "source": [
    "test_statistic = np.mean\n",
    "\n",
    "corr_1_navg_jack = np.empty(shape=(tvals),dtype=float)\n",
    "corr_1_navg_jack_std = np.empty(shape=(tvals),dtype=float)\n",
    "corr_T_navg_jack = np.empty(shape=(tvals),dtype=float)\n",
    "corr_T_navg_jack_std = np.empty(shape=(tvals),dtype=float)\n",
    "\n",
    "corrTilda_1_navg_jack = np.empty(shape=(tvals),dtype=float)\n",
    "corrTilda_1_navg_jack_std = np.empty(shape=(tvals),dtype=float)\n",
    "corrTilda_T_navg_jack = np.empty(shape=(tvals),dtype=float)\n",
    "corrTilda_T_navg_jack_std = np.empty(shape=(tvals),dtype=float)\n",
    "\n",
    "for t in range(tvals):\n",
    "\n",
    "    #for corr\n",
    "    \n",
    "    data = corr_1_navg[:,t].real\n",
    "\n",
    "            \n",
    "    estimate, bias, stderr, conf_interval = jackknife_stats(data, test_statistic, 0.95)\n",
    "\n",
    "    corr_1_navg_jack[t] = estimate\n",
    "    corr_1_navg_jack_std[t] = stderr\n",
    "\n",
    "    \n",
    "    data = corr_T_navg[:,t].real\n",
    "\n",
    "            \n",
    "    estimate, bias, stderr, conf_interval = jackknife_stats(data, test_statistic, 0.95)\n",
    "\n",
    "    corr_T_navg_jack[t] = estimate\n",
    "    corr_T_navg_jack_std[t] = stderr\n",
    "    \n",
    "    #for corrTilda    \n",
    "\n",
    "    data = corrTilda_1_navg[:,t].real\n",
    "\n",
    "            \n",
    "    estimate, bias, stderr, conf_interval = jackknife_stats(data, test_statistic, 0.95)\n",
    "\n",
    "    corrTilda_1_navg_jack[t] = estimate\n",
    "    corrTilda_1_navg_jack_std[t] = stderr\n",
    "\n",
    "    \n",
    "    data = corrTilda_T_navg[:,t].real\n",
    "\n",
    "            \n",
    "    estimate, bias, stderr, conf_interval = jackknife_stats(data, test_statistic, 0.95)\n",
    "\n",
    "    corrTilda_T_navg_jack[t] = estimate\n",
    "    corrTilda_T_navg_jack_std[t] = stderr"
   ]
  },
  {
   "cell_type": "code",
   "execution_count": 54,
   "id": "b71a4ebf-a569-4969-a5f3-4aa28150e926",
   "metadata": {},
   "outputs": [],
   "source": [
    "fp = 0.5 * (corr_1_navg_jack[::-1] + corr_T_navg_jack[:])\n",
    "\n",
    "fp_std = 0.5 * np.sqrt(corr_1_navg_jack[::-1]**2 + corr_T_navg_jack[:]**2 )\n",
    "\n",
    "\n",
    "fpTilda = 0.5 * (corrTilda_1_navg_jack[::-1] + corrTilda_T_navg_jack[:])\n",
    "\n",
    "fpTilda_std = 0.5 * np.sqrt(corrTilda_1_navg_jack[::-1]**2 + corrTilda_T_navg_jack[:]**2 )"
   ]
  },
  {
   "cell_type": "code",
   "execution_count": 55,
   "id": "c017fb5f-8ae9-47f6-a0ae-1958abda5ab6",
   "metadata": {},
   "outputs": [
    {
     "data": {
      "text/plain": [
       "Text(0.5, 1.0, 'cut = 3')"
      ]
     },
     "execution_count": 55,
     "metadata": {},
     "output_type": "execute_result"
    },
    {
     "data": {
      "text/plain": [
       "<ErrorbarContainer object of 3 artists>"
      ]
     },
     "execution_count": 55,
     "metadata": {},
     "output_type": "execute_result"
    },
    {
     "data": {
      "text/plain": [
       "<Figure size 640x480 with 0 Axes>"
      ]
     },
     "execution_count": 55,
     "metadata": {},
     "output_type": "execute_result"
    },
    {
     "data": {
      "text/plain": [
       "<ErrorbarContainer object of 3 artists>"
      ]
     },
     "execution_count": 55,
     "metadata": {},
     "output_type": "execute_result"
    },
    {
     "data": {
      "image/png": "[encoded data removed]",
      "text/plain": [
       "<Figure size 640x480 with 1 Axes>"
      ]
     },
     "metadata": {},
     "output_type": "display_data"
    },
    {
     "data": {
      "image/png": "[encoded data removed]",
      "text/plain": [
       "<Figure size 640x480 with 1 Axes>"
      ]
     },
     "metadata": {},
     "output_type": "display_data"
    }
   ],
   "source": [
    "times = np.arange(tvals)\n",
    "\n",
    "cut=3\n",
    "plt.title(f\"cut = {cut}\")\n",
    "plt.errorbar(times[cut:-cut],fp[cut:-cut],yerr=fp_std[cut:-cut],marker='o',linewidth=0.6)\n",
    "plt.figure()\n",
    "plt.errorbar(times[cut:-cut],fpTilda[cut:-cut],yerr=fpTilda_std[cut:-cut],marker='o',linewidth=0.6)"
   ]
  },
  {
   "cell_type": "code",
   "execution_count": 56,
   "id": "a71def95-4214-4ac0-8c4b-9b047b80179a",
   "metadata": {},
   "outputs": [
    {
     "name": "stderr",
     "output_type": "stream",
     "text": [
      "/tmp/ipykernel_61351/1564018484.py:1: RuntimeWarning: divide by zero encountered in divide\n",
      "  eff_mass = np.log( fp[0:-1]/fp[1:]  )\n",
      "/tmp/ipykernel_61351/1564018484.py:1: RuntimeWarning: divide by zero encountered in log\n",
      "  eff_mass = np.log( fp[0:-1]/fp[1:]  )\n",
      "/tmp/ipykernel_61351/1564018484.py:3: RuntimeWarning: divide by zero encountered in divide\n",
      "  eff_mass_tilda = np.log( fpTilda[-2::-1]/fpTilda[:0:-1]  )\n",
      "/tmp/ipykernel_61351/1564018484.py:3: RuntimeWarning: divide by zero encountered in log\n",
      "  eff_mass_tilda = np.log( fpTilda[-2::-1]/fpTilda[:0:-1]  )\n",
      "/tmp/ipykernel_61351/1564018484.py:3: RuntimeWarning: invalid value encountered in log\n",
      "  eff_mass_tilda = np.log( fpTilda[-2::-1]/fpTilda[:0:-1]  )\n"
     ]
    }
   ],
   "source": [
    "eff_mass = np.log( fp[0:-1]/fp[1:]  )\n",
    "\n",
    "eff_mass_tilda = np.log( fpTilda[-2::-1]/fpTilda[:0:-1]  )"
   ]
  },
  {
   "cell_type": "code",
   "execution_count": 57,
   "id": "5bc33771-19bb-4b65-8bab-c53425428de2",
   "metadata": {},
   "outputs": [
    {
     "data": {
      "text/plain": [
       "[<matplotlib.lines.Line2D at 0x75f1472a7c70>]"
      ]
     },
     "execution_count": 57,
     "metadata": {},
     "output_type": "execute_result"
    },
    {
     "data": {
      "text/plain": [
       "<Figure size 640x480 with 0 Axes>"
      ]
     },
     "execution_count": 57,
     "metadata": {},
     "output_type": "execute_result"
    },
    {
     "data": {
      "text/plain": [
       "[<matplotlib.lines.Line2D at 0x75f1472ec6a0>]"
      ]
     },
     "execution_count": 57,
     "metadata": {},
     "output_type": "execute_result"
    },
    {
     "data": {
      "image/png": "[encoded data removed]",
      "text/plain": [
       "<Figure size 640x480 with 1 Axes>"
      ]
     },
     "metadata": {},
     "output_type": "display_data"
    },
    {
     "data": {
      "image/png": "[encoded data removed]",
      "text/plain": [
       "<Figure size 640x480 with 1 Axes>"
      ]
     },
     "metadata": {},
     "output_type": "display_data"
    }
   ],
   "source": [
    "times = np.arange(0,tvals)\n",
    "eff_mass_times = times[:-1]+0.5\n",
    "\n",
    "plt.plot(eff_mass_times,eff_mass,'-o',linewidth=0.6)\n",
    "\n",
    "plt.figure()\n",
    "plt.plot(eff_mass_times,eff_mass_tilda,'-o',linewidth=0.6)"
   ]
  },
  {
   "cell_type": "code",
   "execution_count": 58,
   "id": "617c8bf6-4631-49ff-8ca3-c6e3150ad2a7",
   "metadata": {},
   "outputs": [
    {
     "data": {
      "text/plain": [
       "0.7294643375698026"
      ]
     },
     "execution_count": 58,
     "metadata": {},
     "output_type": "execute_result"
    },
    {
     "data": {
      "text/plain": [
       "0.7274208889912357"
      ]
     },
     "execution_count": 58,
     "metadata": {},
     "output_type": "execute_result"
    }
   ],
   "source": [
    "cut=7\n",
    "-np.mean(eff_mass[cut:-cut])\n",
    "\n",
    "-np.mean(eff_mass_tilda[cut:-cut])"
   ]
  },
  {
   "cell_type": "markdown",
   "id": "5f498849-33f6-4b00-9dd0-25ceebcffc97",
   "metadata": {
    "jp-MarkdownHeadingCollapsed": true
   },
   "source": [
    "### jacknife last"
   ]
  },
  {
   "cell_type": "code",
   "execution_count": 59,
   "id": "cd9e76f2-4bc4-425d-a877-608c6003eadd",
   "metadata": {},
   "outputs": [
    {
     "name": "stderr",
     "output_type": "stream",
     "text": [
      "/tmp/ipykernel_61351/2583113244.py:3: RuntimeWarning: divide by zero encountered in divide\n",
      "  eff_mass = np.log( fp[:,0:-1].real/fp[:,1:].real  )\n",
      "/tmp/ipykernel_61351/2583113244.py:3: RuntimeWarning: divide by zero encountered in log\n",
      "  eff_mass = np.log( fp[:,0:-1].real/fp[:,1:].real  )\n",
      "/tmp/ipykernel_61351/2583113244.py:8: RuntimeWarning: divide by zero encountered in divide\n",
      "  eff_mass_tilda = np.log( fpTilda[:,-2::-1].real/fpTilda[:,:0:-1].real  )\n",
      "/tmp/ipykernel_61351/2583113244.py:8: RuntimeWarning: divide by zero encountered in log\n",
      "  eff_mass_tilda = np.log( fpTilda[:,-2::-1].real/fpTilda[:,:0:-1].real  )\n",
      "/tmp/ipykernel_61351/2583113244.py:8: RuntimeWarning: invalid value encountered in log\n",
      "  eff_mass_tilda = np.log( fpTilda[:,-2::-1].real/fpTilda[:,:0:-1].real  )\n"
     ]
    }
   ],
   "source": [
    "fp = 0.5 * (corr_1_navg[:,::-1] + corr_T_navg[:,:])\n",
    "\n",
    "eff_mass = np.log( fp[:,0:-1].real/fp[:,1:].real  )\n",
    "\n",
    "\n",
    "fpTilda = 0.5 * (corrTilda_1_navg[:,::-1] + corrTilda_T_navg[:,:])\n",
    "\n",
    "eff_mass_tilda = np.log( fpTilda[:,-2::-1].real/fpTilda[:,:0:-1].real  )"
   ]
  },
  {
   "cell_type": "code",
   "execution_count": 60,
   "id": "8f07a94a-d228-47a4-b9a4-019a20534088",
   "metadata": {},
   "outputs": [
    {
     "name": "stderr",
     "output_type": "stream",
     "text": [
      "/home/tag-e/università/Magistrale/tesi/codice/myCode/python_analysis/my_env/lib/python3.10/site-packages/astropy/stats/jackknife.py:163: RuntimeWarning: invalid value encountered in scalar subtract\n",
      "  bias = (n - 1) * (mean_jack_stat - stat_data)\n",
      "/home/tag-e/università/Magistrale/tesi/codice/myCode/python_analysis/my_env/lib/python3.10/site-packages/astropy/stats/jackknife.py:168: RuntimeWarning: invalid value encountered in subtract\n",
      "  * np.mean((jack_stat - mean_jack_stat) * (jack_stat - mean_jack_stat), axis=0)\n"
     ]
    }
   ],
   "source": [
    "test_statistic = np.mean\n",
    "\n",
    "eff_mass_jack = np.empty(shape=(tvals-1),dtype=float)\n",
    "eff_mass_jack_std = np.empty(shape=(tvals-1),dtype=float)\n",
    "\n",
    "eff_mass_tilda_jack = np.empty(shape=(tvals-1),dtype=float)\n",
    "eff_mass_tilda_jack_std = np.empty(shape=(tvals-1),dtype=float)\n",
    "\n",
    "for t in range(tvals-1):\n",
    "    \n",
    "    data = eff_mass[:,t]\n",
    "\n",
    "            \n",
    "    estimate, bias, stderr, conf_interval = jackknife_stats(data, test_statistic, 0.95)\n",
    "\n",
    "    eff_mass_jack[t] = estimate\n",
    "    eff_mass_jack_std[t] = stderr\n",
    "\n",
    "\n",
    "    data = eff_mass_tilda[:,t]\n",
    "\n",
    "            \n",
    "    estimate, bias, stderr, conf_interval = jackknife_stats(data, test_statistic, 0.95)\n",
    "\n",
    "    eff_mass_tilda_jack[t] = estimate\n",
    "    eff_mass_tilda_jack_std[t] = stderr"
   ]
  },
  {
   "cell_type": "code",
   "execution_count": 61,
   "id": "24749bd2-2ccb-4156-b03f-4726e5e9a59a",
   "metadata": {},
   "outputs": [
    {
     "data": {
      "text/plain": [
       "Text(0.5, 1.0, 'cut = 7')"
      ]
     },
     "execution_count": 61,
     "metadata": {},
     "output_type": "execute_result"
    },
    {
     "data": {
      "text/plain": [
       "<ErrorbarContainer object of 3 artists>"
      ]
     },
     "execution_count": 61,
     "metadata": {},
     "output_type": "execute_result"
    },
    {
     "data": {
      "text/plain": [
       "<Figure size 640x480 with 0 Axes>"
      ]
     },
     "execution_count": 61,
     "metadata": {},
     "output_type": "execute_result"
    },
    {
     "data": {
      "text/plain": [
       "<ErrorbarContainer object of 3 artists>"
      ]
     },
     "execution_count": 61,
     "metadata": {},
     "output_type": "execute_result"
    },
    {
     "data": {
      "image/png": "[encoded data removed]",
      "text/plain": [
       "<Figure size 640x480 with 1 Axes>"
      ]
     },
     "metadata": {},
     "output_type": "display_data"
    },
    {
     "data": {
      "image/png": "[encoded data removed]",
      "text/plain": [
       "<Figure size 640x480 with 1 Axes>"
      ]
     },
     "metadata": {},
     "output_type": "display_data"
    }
   ],
   "source": [
    "times = np.arange(0,tvals)\n",
    "eff_mass_times = times[:-1]+0.5\n",
    "\n",
    "cut = 7\n",
    "\n",
    "plt.title(f\"cut = {cut}\")\n",
    "\n",
    "plt.errorbar(eff_mass_times[cut:-cut],eff_mass_jack[cut:-cut],yerr=eff_mass_jack_std[cut:-cut],marker='o',linewidth=0.6)\n",
    "\n",
    "plt.figure()\n",
    "plt.errorbar(eff_mass_times[cut:-cut],eff_mass_tilda_jack[cut:-cut],yerr=eff_mass_tilda_jack_std[cut:-cut],marker='o',linewidth=0.6)"
   ]
  },
  {
   "cell_type": "code",
   "execution_count": 63,
   "id": "8567fb7f-6c24-4cfe-b118-41773ef3e6cb",
   "metadata": {},
   "outputs": [
    {
     "data": {
      "text/plain": [
       "0.7294662292508642"
      ]
     },
     "execution_count": 63,
     "metadata": {},
     "output_type": "execute_result"
    },
    {
     "data": {
      "text/plain": [
       "1.1864657734702986e-05"
      ]
     },
     "execution_count": 63,
     "metadata": {},
     "output_type": "execute_result"
    },
    {
     "data": {
      "text/plain": [
       "0.7274187051556011"
      ]
     },
     "execution_count": 63,
     "metadata": {},
     "output_type": "execute_result"
    },
    {
     "data": {
      "text/plain": [
       "1.3357538759196985e-05"
      ]
     },
     "execution_count": 63,
     "metadata": {},
     "output_type": "execute_result"
    }
   ],
   "source": [
    "mass_aver = -np.mean(eff_mass_jack[cut:-cut])\n",
    "mass_aver_std = np.sqrt(np.mean(eff_mass_jack_std[cut:-cut]**2))\n",
    "\n",
    "mass_aver\n",
    "mass_aver_std\n",
    "\n",
    "\n",
    "mass_aver_tilda = -np.mean(eff_mass_tilda_jack[cut:-cut])\n",
    "mass_aver_tilda_std = np.sqrt(np.mean(eff_mass_tilda_jack_std[cut:-cut]**2))\n",
    "\n",
    "mass_aver_tilda\n",
    "mass_aver_tilda_std"
   ]
  },
  {
   "cell_type": "markdown",
   "id": "bb9c21c6-777d-4cc1-8389-c9aee84f7311",
   "metadata": {},
   "source": [
    "## mass from sinh fit"
   ]
  },
  {
   "cell_type": "code",
   "execution_count": 64,
   "id": "fe80c5d5-debe-4db9-add5-5d73f11f8c9f",
   "metadata": {},
   "outputs": [],
   "source": [
    "test_statistic = np.mean\n",
    "\n",
    "corr_1_navg_jack = np.empty(shape=(tvals),dtype=float)\n",
    "corr_1_navg_jack_std = np.empty(shape=(tvals),dtype=float)\n",
    "corr_T_navg_jack = np.empty(shape=(tvals),dtype=float)\n",
    "corr_T_navg_jack_std = np.empty(shape=(tvals),dtype=float)\n",
    "\n",
    "corrTilda_1_navg_jack = np.empty(shape=(tvals),dtype=float)\n",
    "corrTilda_1_navg_jack_std = np.empty(shape=(tvals),dtype=float)\n",
    "corrTilda_T_navg_jack = np.empty(shape=(tvals),dtype=float)\n",
    "corrTilda_T_navg_jack_std = np.empty(shape=(tvals),dtype=float)\n",
    "\n",
    "for t in range(tvals):\n",
    "\n",
    "    #for corr\n",
    "    \n",
    "    data = corr_1_navg[:,t].real\n",
    "\n",
    "            \n",
    "    estimate, bias, stderr, conf_interval = jackknife_stats(data, test_statistic, 0.95)\n",
    "\n",
    "    corr_1_navg_jack[t] = estimate\n",
    "    corr_1_navg_jack_std[t] = stderr\n",
    "\n",
    "    \n",
    "    data = corr_T_navg[:,t].real\n",
    "\n",
    "            \n",
    "    estimate, bias, stderr, conf_interval = jackknife_stats(data, test_statistic, 0.95)\n",
    "\n",
    "    corr_T_navg_jack[t] = estimate\n",
    "    corr_T_navg_jack_std[t] = stderr\n",
    "\n",
    "\n",
    "    #for corrTilda\n",
    "    \n",
    "    data = corrTilda_1_navg[:,t].real\n",
    "\n",
    "            \n",
    "    estimate, bias, stderr, conf_interval = jackknife_stats(data, test_statistic, 0.95)\n",
    "\n",
    "    corrTilda_1_navg_jack[t] = estimate\n",
    "    corrTilda_1_navg_jack_std[t] = stderr\n",
    "\n",
    "    \n",
    "    data = corrTilda_T_navg[:,t].real\n",
    "\n",
    "            \n",
    "    estimate, bias, stderr, conf_interval = jackknife_stats(data, test_statistic, 0.95)\n",
    "\n",
    "    corrTilda_T_navg_jack[t] = estimate\n",
    "    corrTilda_T_navg_jack_std[t] = stderr"
   ]
  },
  {
   "cell_type": "code",
   "execution_count": 65,
   "id": "6b067997-408c-42f3-9c42-0b19c190eaad",
   "metadata": {},
   "outputs": [],
   "source": [
    "fp = 0.5 * (corr_1_navg_jack[::-1] + corr_T_navg_jack[:])\n",
    "\n",
    "fp_std = 0.5 * np.sqrt(corr_1_navg_jack[::-1]**2 + corr_T_navg_jack[:]**2 )\n",
    "\n",
    "\n",
    "fpTilda = 0.5 * (corrTilda_1_navg_jack[::-1] + corrTilda_T_navg_jack[:])\n",
    "\n",
    "fpTilda_std = 0.5 * np.sqrt(corrTilda_1_navg_jack[::-1]**2 + corrTilda_T_navg_jack[:]**2 )"
   ]
  },
  {
   "cell_type": "code",
   "execution_count": 66,
   "id": "acdd11eb-680b-41d6-8c03-6b2de2755a05",
   "metadata": {},
   "outputs": [],
   "source": [
    "def chi2(result,data,data_std):\n",
    "    return np.sum( ((result-data)/data_std)**2 )"
   ]
  },
  {
   "cell_type": "code",
   "execution_count": 67,
   "id": "af19ad19-c25a-4265-b024-8ea9e28dda67",
   "metadata": {},
   "outputs": [],
   "source": [
    "guess_mass = 0.42\n",
    "guess_amp =  fp[-4]\n",
    "\n",
    "def fit_sinh(t,amp,mass):\n",
    "    return amp*np.sinh(mass*t)\n",
    "\n",
    "guess_amp_tilda =  fpTilda[4]"
   ]
  },
  {
   "cell_type": "code",
   "execution_count": 68,
   "id": "4b8e7bec-9c0d-4c8f-9f9f-1e28a70db418",
   "metadata": {},
   "outputs": [],
   "source": [
    "#cut  = 12\n",
    "cut = 5\n",
    "\n",
    "fit_times = times[cut:-cut]\n",
    "\n",
    "fit_data = fp[cut:-cut]\n",
    "\n",
    "guess = [guess_amp,guess_mass]\n",
    "\n",
    "\n",
    "fit_data_tilda = fpTilda[cut:-cut]\n",
    "\n",
    "guess_tilda = [guess_amp_tilda,guess_mass]"
   ]
  },
  {
   "cell_type": "code",
   "execution_count": 69,
   "id": "ebc86c9e-df44-47f8-82aa-1099f0a2c1dd",
   "metadata": {},
   "outputs": [
    {
     "name": "stdout",
     "output_type": "stream",
     "text": [
      "Result corr:\n",
      "amp:  2.707896656875908e-07 +- 1.022369507383177e-08\n",
      "mass: 0.755959171852763 +- 0.0014676903253203978\n",
      "\n",
      "Result corrTilda:\n",
      "amp:  -1.0405823886088453e-06 +- 4.982411451946182e-08\n",
      "mass: 0.6959547352225469 +- 0.0018646890888048184\n",
      "\n"
     ]
    },
    {
     "name": "stderr",
     "output_type": "stream",
     "text": [
      "/tmp/ipykernel_61351/97009746.py:5: RuntimeWarning: overflow encountered in sinh\n",
      "  return amp*np.sinh(mass*t)\n"
     ]
    }
   ],
   "source": [
    "popt,pcov = curve_fit(fit_sinh, fit_times, fit_data, p0=guess)\n",
    "perr = np.sqrt(np.diag(pcov))\n",
    "fit_result = fit_sinh(fit_times,*popt)\n",
    "\n",
    "print(\"Result corr:\")\n",
    "print(f\"amp:  {popt[0]} +- {perr[0]}\")\n",
    "print(f\"mass: {popt[1]} +- {perr[1]}\\n\")\n",
    "\n",
    "\n",
    "popt,pcov = curve_fit(fit_sinh, fit_times, fit_data_tilda, p0=guess_tilda)\n",
    "perr = np.sqrt(np.diag(pcov))\n",
    "fit_result_tilda = fit_sinh(fit_times,*popt)\n",
    "\n",
    "print(\"Result corrTilda:\")\n",
    "print(f\"amp:  {popt[0]} +- {perr[0]}\")\n",
    "print(f\"mass: {popt[1]} +- {perr[1]}\\n\")"
   ]
  },
  {
   "cell_type": "code",
   "execution_count": 71,
   "id": "16dc9563-878a-438d-981e-315e67d558c5",
   "metadata": {},
   "outputs": [
    {
     "name": "stdout",
     "output_type": "stream",
     "text": [
      "chi2: 2.446086929506092\n",
      "chi2: 2.446086929506092\n"
     ]
    },
    {
     "data": {
      "image/png": "[encoded data removed]",
      "text/plain": [
       "<Figure size 640x480 with 1 Axes>"
      ]
     },
     "metadata": {},
     "output_type": "display_data"
    },
    {
     "data": {
      "image/png": "[encoded data removed]",
      "text/plain": [
       "<Figure size 640x480 with 1 Axes>"
      ]
     },
     "metadata": {},
     "output_type": "display_data"
    }
   ],
   "source": [
    "_ = plt.plot(fit_times,fit_data,'-o',label='data',color='blue',linewidth=1)\n",
    "_ = plt.plot(fit_times,fit_result,'-o',label='fit',color='red',linewidth=1)\n",
    "#plt.yscale('log')\n",
    "print(f\"chi2: {chi2(fit_result,fit_data,fp_std[cut:-cut])}\")\n",
    "\n",
    "_ = plt.figure()\n",
    "_ = plt.plot(fit_times,fit_data_tilda,'-o',label='data',color='blue',linewidth=1)\n",
    "_ = plt.plot(fit_times,fit_result_tilda,'-o',label='fit',color='red',linewidth=1)\n",
    "#plt.yscale('log')\n",
    "print(f\"chi2: {chi2(fit_result,fit_data,fp_std[cut:-cut])}\")"
   ]
  },
  {
   "cell_type": "markdown",
   "id": "a76c334f-88d3-45eb-86c3-b9871314c00f",
   "metadata": {},
   "source": [
    "calcolo di elementi di matrice di operatori a quattro fermioni per il calcolo della violazione indiretta di CP nel sistema $K^0-\\bar K^0$.\n",
    "\n"
   ]
  },
  {
   "cell_type": "markdown",
   "id": "eb7d4065-df8a-484d-9d6f-1e948eb9b178",
   "metadata": {},
   "source": [
    "computation of matrix elements of four fermion operators involved in the indirect CP violation in the $K^0-\\bar K^0$ system"
   ]
  },
  {
   "cell_type": "markdown",
   "id": "567afa71-1e01-476f-8850-425fbf36d53d",
   "metadata": {},
   "source": [
    "$K^0-\\bar K^0$ matrix element of four fermion operators"
   ]
  }
 ],
 "metadata": {
  "kernelspec": {
   "display_name": "Python 3 (ipykernel)",
   "language": "python",
   "name": "python3"
  },
  "language_info": {
   "codemirror_mode": {
    "name": "ipython",
    "version": 3
   },
   "file_extension": ".py",
   "mimetype": "text/x-python",
   "name": "python",
   "nbconvert_exporter": "python",
   "pygments_lexer": "ipython3",
   "version": "3.10.12"
  }
 },
 "nbformat": 4,
 "nbformat_minor": 5
}
