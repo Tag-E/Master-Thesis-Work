{
 "cells": [
  {
   "cell_type": "markdown",
   "id": "ba72f0ad-f8df-4bf7-9322-02b3cbf926f5",
   "metadata": {},
   "source": [
    "# Library Import"
   ]
  },
  {
   "cell_type": "code",
   "execution_count": 13,
   "id": "acab10fb-6732-476d-a84d-b0b0b6e3e159",
   "metadata": {},
   "outputs": [],
   "source": [
    "#to display all output\n",
    "from IPython.core.interactiveshell import InteractiveShell\n",
    "InteractiveShell.ast_node_interactivity = \"all\""
   ]
  },
  {
   "cell_type": "code",
   "execution_count": 14,
   "id": "b90dd757-92b1-4796-a1ff-5db1d4d02b8f",
   "metadata": {},
   "outputs": [],
   "source": [
    "%matplotlib inline\n",
    "import numpy as np\n",
    "import matplotlib.pyplot as plt\n",
    "\n",
    "#import scipy\n",
    "import struct\n",
    "\n",
    "from pathlib import Path\n",
    "from sympy import divisors"
   ]
  },
  {
   "cell_type": "markdown",
   "id": "270436d9-c04c-45c1-aa94-5af9121202e6",
   "metadata": {},
   "source": [
    "# Configuration Reading from File"
   ]
  },
  {
   "cell_type": "code",
   "execution_count": 15,
   "id": "33fa9738-e542-4cda-925a-576ea8e1bc78",
   "metadata": {},
   "outputs": [],
   "source": [
    "#dirName = '../mesons-master/build/dat/'\n",
    "#name = 'odd_prova26.odd_df2_4fop'\n",
    "dirName = '../../data_from_scp/'\n",
    "name = 'tm_mesons_run3.mesons'\n",
    "datName = name + '.dat'\n",
    "\n",
    "fileName = dirName + datName"
   ]
  },
  {
   "cell_type": "code",
   "execution_count": 16,
   "id": "70b9dea7-f164-47b5-89f1-2a9fea06b359",
   "metadata": {},
   "outputs": [],
   "source": [
    "plot_base_dir = 'plots/'\n",
    "plot_dir = 'plot_'+name.split('.')[0]\n",
    "Path(plot_base_dir+plot_dir).mkdir(parents=True, exist_ok=True)"
   ]
  },
  {
   "cell_type": "code",
   "execution_count": 17,
   "id": "4ae29d37-d144-4cf1-8202-452a3033b715",
   "metadata": {},
   "outputs": [],
   "source": [
    "verbose=True #True to print more output\n",
    "\n",
    "step = 1 #steps at which configurations are read\n",
    "\n",
    "early_stop = 0 #number of configurations (counting from the end) not read"
   ]
  },
  {
   "cell_type": "code",
   "execution_count": 22,
   "id": "66a25273-3812-4aa0-8b53-d66f1f654742",
   "metadata": {},
   "outputs": [
    {
     "name": "stdout",
     "output_type": "stream",
     "text": [
      "Reading: Gauge Conf = 1\n",
      "\n",
      "Reading: Gauge Conf = 2\n",
      "\n",
      "Reading: Gauge Conf = 3\n",
      "\n",
      "Reading: Gauge Conf = 4\n",
      "\n",
      "Reading: Gauge Conf = 5\n",
      "\n",
      "Reading: Gauge Conf = 6\n",
      "\n",
      "Reading: Gauge Conf = 7\n",
      "\n",
      "Reading: Gauge Conf = 8\n",
      "\n",
      "Reading: Gauge Conf = 9\n",
      "\n",
      "Reading: Gauge Conf = 10\n",
      "\n",
      "Reading: Gauge Conf = 11\n",
      "\n",
      "Reading: Gauge Conf = 12\n",
      "\n",
      "Reading: Gauge Conf = 13\n",
      "\n",
      "Reading: Gauge Conf = 14\n",
      "\n",
      "Reading: Gauge Conf = 15\n",
      "\n",
      "Reading: Gauge Conf = 16\n",
      "\n",
      "Reading: Gauge Conf = 17\n",
      "\n",
      "Reading: Gauge Conf = 18\n",
      "\n",
      "Reading: Gauge Conf = 19\n",
      "\n",
      "Reading: Gauge Conf = 20\n",
      "\n",
      "Reading: Gauge Conf = 21\n",
      "\n",
      "Reading: Gauge Conf = 22\n",
      "\n",
      "Reading: Gauge Conf = 23\n",
      "\n",
      "Reading: Gauge Conf = 24\n",
      "\n",
      "Reading: Gauge Conf = 25\n",
      "\n",
      "Reading: Gauge Conf = 26\n",
      "\n",
      "Reading: Gauge Conf = 27\n",
      "\n",
      "Reading: Gauge Conf = 28\n",
      "\n",
      "Reading: Gauge Conf = 29\n",
      "\n",
      "Reading: Gauge Conf = 30\n",
      "\n",
      "Reading: Gauge Conf = 31\n",
      "\n",
      "Reading: Gauge Conf = 32\n",
      "\n",
      "Reading: Gauge Conf = 33\n",
      "\n",
      "Reading: Gauge Conf = 34\n",
      "\n",
      "Reading: Gauge Conf = 35\n",
      "\n",
      "Reading: Gauge Conf = 36\n",
      "\n",
      "Reading: Gauge Conf = 37\n",
      "\n",
      "Reading: Gauge Conf = 38\n",
      "\n",
      "Reading: Gauge Conf = 39\n",
      "\n",
      "Reading: Gauge Conf = 40\n",
      "\n",
      "Reading: Gauge Conf = 41\n",
      "\n",
      "Reading: Gauge Conf = 42\n",
      "\n",
      "Reading: Gauge Conf = 43\n",
      "\n",
      "Reading: Gauge Conf = 44\n",
      "\n",
      "Reading: Gauge Conf = 45\n",
      "\n",
      "Reading: Gauge Conf = 46\n",
      "\n",
      "Reading: Gauge Conf = 47\n",
      "\n",
      "Reading: Gauge Conf = 48\n",
      "\n",
      "Reading: Gauge Conf = 49\n",
      "\n",
      "Reading: Gauge Conf = 50\n",
      "\n",
      "Reading: Gauge Conf = 51\n",
      "\n",
      "Reading: Gauge Conf = 52\n",
      "\n",
      "Reading: Gauge Conf = 53\n",
      "\n",
      "Reading: Gauge Conf = 54\n",
      "\n",
      "Reading: Gauge Conf = 55\n",
      "\n",
      "Reading: Gauge Conf = 56\n",
      "\n",
      "Reading: Gauge Conf = 57\n",
      "\n",
      "Reading: Gauge Conf = 58\n",
      "\n",
      "Reading: Gauge Conf = 59\n",
      "\n",
      "Reading: Gauge Conf = 60\n",
      "\n",
      "Reading: Gauge Conf = 61\n",
      "\n",
      "Reading: Gauge Conf = 62\n",
      "\n",
      "Reading: Gauge Conf = 63\n",
      "\n",
      "Reading: Gauge Conf = 64\n",
      "\n",
      "Reading: Gauge Conf = 65\n",
      "\n",
      "Reading: Gauge Conf = 66\n",
      "\n",
      "Reading: Gauge Conf = 67\n",
      "\n",
      "Reading: Gauge Conf = 68\n",
      "\n",
      "Reading: Gauge Conf = 69\n",
      "\n",
      "Reading: Gauge Conf = 70\n",
      "\n",
      "Reading: Gauge Conf = 71\n",
      "\n",
      "Reading: Gauge Conf = 72\n",
      "\n",
      "Reading: Gauge Conf = 73\n",
      "\n",
      "Reading: Gauge Conf = 74\n",
      "\n",
      "Reading: Gauge Conf = 75\n",
      "\n",
      "Reading: Gauge Conf = 76\n",
      "\n",
      "Reading: Gauge Conf = 77\n",
      "\n",
      "Reading: Gauge Conf = 78\n",
      "\n",
      "Reading: Gauge Conf = 79\n",
      "\n",
      "Reading: Gauge Conf = 80\n",
      "\n",
      "Reading: Gauge Conf = 81\n",
      "\n",
      "Reading: Gauge Conf = 82\n",
      "\n",
      "Reading: Gauge Conf = 83\n",
      "\n",
      "Reading: Gauge Conf = 84\n",
      "\n",
      "Reading: Gauge Conf = 85\n",
      "\n",
      "Reading: Gauge Conf = 86\n",
      "\n",
      "Reading: Gauge Conf = 87\n",
      "\n",
      "Reading: Gauge Conf = 88\n",
      "\n",
      "Reading: Gauge Conf = 89\n",
      "\n",
      "Reading: Gauge Conf = 90\n",
      "\n",
      "Reading: Gauge Conf = 91\n",
      "\n",
      "Reading: Gauge Conf = 92\n",
      "\n",
      "Reading: Gauge Conf = 93\n",
      "\n",
      "Reading: Gauge Conf = 94\n",
      "\n",
      "Reading: Gauge Conf = 95\n",
      "\n",
      "Reading: Gauge Conf = 96\n",
      "\n",
      "Reading: Gauge Conf = 97\n",
      "\n",
      "Reading: Gauge Conf = 98\n",
      "\n",
      "Reading: Gauge Conf = 99\n",
      "\n",
      "Reading: Gauge Conf = 100\n",
      "\n",
      "Reading: Gauge Conf = 101\n",
      "\n",
      "Reading: Gauge Conf = 102\n",
      "\n",
      "Reading: Gauge Conf = 103\n",
      "\n",
      "Reading: Gauge Conf = 104\n",
      "\n",
      "Reading: Gauge Conf = 105\n",
      "\n",
      "Reading: Gauge Conf = 106\n",
      "\n",
      "Reading: Gauge Conf = 107\n",
      "\n",
      "Reading: Gauge Conf = 108\n",
      "\n",
      "Reading: Gauge Conf = 109\n",
      "\n",
      "Reading: Gauge Conf = 110\n",
      "\n",
      "Reading: Gauge Conf = 111\n",
      "\n",
      "Reading: Gauge Conf = 112\n",
      "\n",
      "Reading: Gauge Conf = 113\n",
      "\n",
      "Reading: Gauge Conf = 114\n",
      "\n",
      "Reading: Gauge Conf = 115\n",
      "\n",
      "Reading: Gauge Conf = 116\n",
      "\n",
      "Reading: Gauge Conf = 117\n",
      "\n",
      "Reading: Gauge Conf = 118\n",
      "\n",
      "Reading: Gauge Conf = 119\n",
      "\n",
      "Reading: Gauge Conf = 120\n",
      "\n",
      "Reading: Gauge Conf = 121\n",
      "\n",
      "Reading: Gauge Conf = 122\n",
      "\n",
      "Reading: Gauge Conf = 123\n",
      "\n",
      "Reading: Gauge Conf = 124\n",
      "\n",
      "Reading: Gauge Conf = 125\n",
      "\n",
      "Reading: Gauge Conf = 126\n",
      "\n",
      "Reading: Gauge Conf = 127\n",
      "\n",
      "Reading: Gauge Conf = 128\n",
      "\n",
      "Reading: Gauge Conf = 129\n",
      "\n",
      "Reading: Gauge Conf = 130\n",
      "\n",
      "Reading: Gauge Conf = 131\n",
      "\n",
      "Reading: Gauge Conf = 132\n",
      "\n",
      "Reading: Gauge Conf = 133\n",
      "\n",
      "Reading: Gauge Conf = 134\n",
      "\n",
      "Reading: Gauge Conf = 135\n",
      "\n",
      "Reading: Gauge Conf = 136\n",
      "\n",
      "Reading: Gauge Conf = 137\n",
      "\n",
      "Reading: Gauge Conf = 138\n",
      "\n",
      "Reading: Gauge Conf = 139\n",
      "\n",
      "Reading: Gauge Conf = 140\n",
      "\n",
      "Reading: Gauge Conf = 141\n",
      "\n",
      "Reading: Gauge Conf = 142\n",
      "\n",
      "Reading: Gauge Conf = 143\n",
      "\n",
      "Reading: Gauge Conf = 144\n",
      "\n",
      "Reading: Gauge Conf = 145\n",
      "\n",
      "Reading: Gauge Conf = 146\n",
      "\n",
      "Reading: Gauge Conf = 147\n",
      "\n",
      "Reading: Gauge Conf = 148\n",
      "\n",
      "Reading: Gauge Conf = 149\n",
      "\n",
      "Reading: Gauge Conf = 150\n",
      "\n",
      "Reading: Gauge Conf = 151\n",
      "\n",
      "Reading: Gauge Conf = 152\n",
      "\n",
      "Reading: Gauge Conf = 153\n",
      "\n",
      "Reading: Gauge Conf = 154\n",
      "\n",
      "Reading: Gauge Conf = 155\n",
      "\n",
      "Reading: Gauge Conf = 156\n",
      "\n",
      "Reading: Gauge Conf = 157\n",
      "\n",
      "Reading: Gauge Conf = 158\n",
      "\n",
      "Reading: Gauge Conf = 159\n",
      "\n",
      "Reading: Gauge Conf = 160\n",
      "\n",
      "Reading: Gauge Conf = 161\n",
      "\n",
      "Reading: Gauge Conf = 162\n",
      "\n",
      "Reading: Gauge Conf = 163\n",
      "\n",
      "Reading: Gauge Conf = 164\n",
      "\n",
      "Reading: Gauge Conf = 165\n",
      "\n",
      "Reading: Gauge Conf = 166\n",
      "\n",
      "Reading: Gauge Conf = 167\n",
      "\n",
      "Reading: Gauge Conf = 168\n",
      "\n",
      "Reading: Gauge Conf = 169\n",
      "\n",
      "Reading: Gauge Conf = 170\n",
      "\n",
      "Reading: Gauge Conf = 171\n",
      "\n",
      "Reading: Gauge Conf = 172\n",
      "\n",
      "Reading: Gauge Conf = 173\n",
      "\n",
      "Reading: Gauge Conf = 174\n",
      "\n",
      "Reading: Gauge Conf = 175\n",
      "\n",
      "Reading: Gauge Conf = 176\n",
      "\n",
      "Reading: Gauge Conf = 177\n",
      "\n",
      "Reading: Gauge Conf = 178\n",
      "\n",
      "Reading: Gauge Conf = 179\n",
      "\n",
      "Reading: Gauge Conf = 180\n",
      "\n",
      "Reading: Gauge Conf = 181\n",
      "\n",
      "Reading: Gauge Conf = 182\n",
      "\n",
      "Reading: Gauge Conf = 183\n",
      "\n",
      "Reading: Gauge Conf = 184\n",
      "\n",
      "Reading: Gauge Conf = 185\n",
      "\n",
      "Reading: Gauge Conf = 186\n",
      "\n",
      "Reading: Gauge Conf = 187\n",
      "\n",
      "Reading: Gauge Conf = 188\n",
      "\n",
      "Reading: Gauge Conf = 189\n",
      "\n",
      "Reading: Gauge Conf = 190\n",
      "\n",
      "Reading: Gauge Conf = 191\n",
      "\n",
      "Reading: Gauge Conf = 192\n",
      "\n",
      "Reading: Gauge Conf = 193\n",
      "\n",
      "Reading: Gauge Conf = 194\n",
      "\n",
      "Reading: Gauge Conf = 195\n",
      "\n",
      "Reading: Gauge Conf = 196\n",
      "\n",
      "Reading: Gauge Conf = 197\n",
      "\n",
      "Reading: Gauge Conf = 198\n",
      "\n",
      "Reading: Gauge Conf = 199\n",
      "\n",
      "Reading: Gauge Conf = 200\n",
      "\n"
     ]
    }
   ],
   "source": [
    "#the correlators array will be stored in a dict having as keys the configurations\n",
    "conf_dict = {}\n",
    "\n",
    "#list with configurations number\n",
    "conf_num_list = []\n",
    "\n",
    "##### reading data from binary dat file #####\n",
    "with open(fileName, mode='rb') as file: # b is important -> binary\n",
    "    fileContent = file.read()\n",
    "\n",
    "    #header is made up of 4 integers, 4x4=16byte\n",
    "    header_size= 4*4\n",
    "\n",
    "    #first 16 byte are four 4-byte integers\n",
    "    ncorr, nnoise, tvals, noise_type = struct.unpack(\"iiii\", fileContent[:header_size])\n",
    "\n",
    "    #initialization of correlators' variables\n",
    "    k1=['']*ncorr\n",
    "    k2=['']*ncorr\n",
    "    \n",
    "    mu1=['']*ncorr\n",
    "    mu2=['']*ncorr\n",
    "\n",
    "    type1=['']*ncorr\n",
    "    type2=['']*ncorr\n",
    "    \n",
    "    x0=['']*ncorr\n",
    "    isreal=['']*ncorr\n",
    "\n",
    "    \n",
    "    #each correlator has an header of size given by 4x8 + 4x4 = 48byte\n",
    "    corr_header_size = 4*8 + 4*4\n",
    "    \n",
    "    #then there are ncorr block, 8x8 + 4x4 (8 double and 4 int) with the following structure \n",
    "    for i in range(ncorr):\n",
    "         k1[i], k2[i], mu1[i], mu2[i], type1[i], type2[i], x0[i], isreal[i] = struct.unpack(\"ddddiiii\",fileContent[header_size+corr_header_size*i:header_size+corr_header_size*(i+1)])\n",
    "\n",
    "\n",
    "\n",
    "    #initialization of correlators array\n",
    "    corr = np.empty(shape=(ncorr,tvals,nnoise),dtype=complex) #correlators\n",
    "    \n",
    "\n",
    "    #configuration start right after the header\n",
    "    first_conf = header_size+corr_header_size*ncorr\n",
    "    \n",
    "    #we compute the lenght of the data block for each configuration\n",
    "    #          sizeof(int) (=confNumber)           ncorr * nnoise * tvals * 2 (re+im) * 8 (sizeof(double))\n",
    "    conf_len = 4                                 +  nnoise * tvals * (2*ncorr - np.sum(isreal))         * 8         \n",
    "    #the term with isreal is there because for real correlators only the real part gets stored\n",
    "\n",
    "    #starting right after the header we read each configuration block\n",
    "    for start_conf in range(first_conf, len(fileContent)-conf_len*early_stop, conf_len*step):\n",
    "    #for start_conf in range(first_conf, len(fileContent)-conf_len, conf_len):\n",
    "\n",
    "        #breaks loop if the file does not contain the whole correlator for the given configuration\n",
    "        if start_conf+conf_len > len(fileContent) :\n",
    "            break\n",
    "\n",
    "        #reading of the configuration number\n",
    "        conf_number = struct.unpack(\"i\",fileContent[start_conf:start_conf+4])[0]\n",
    "        if verbose==True:\n",
    "            print(f\"Reading: Gauge Conf = {conf_number}\\n\")\n",
    "\n",
    "        #store of conf num\n",
    "        if conf_number not in conf_num_list:\n",
    "            conf_num_list.append(conf_number)\n",
    "\n",
    "        #initialize to 0 the array storing the correlators\n",
    "        corr.fill(complex(0,0))\n",
    "\n",
    "        #initialize start reading\n",
    "        start_reading = start_conf + 4\n",
    "\n",
    "        #loop over the correlators (ncorr blocks of...)\n",
    "        for ic in range(ncorr):\n",
    "            \n",
    "            #reading of 2 point functions\n",
    "            for t in range(tvals):\n",
    "                \n",
    "                for inoise in range(nnoise):\n",
    "\n",
    "                    if isreal[ic]==0:\n",
    "                        #read re and im\n",
    "                        re,im = struct.unpack(\"dd\",fileContent[start_reading:start_reading+16])\n",
    "                        #store them\n",
    "                        corr[ic][t][inoise] = complex(re,im)\n",
    "                        #update start reading\n",
    "                        start_reading = start_reading+16\n",
    "\n",
    "                    if isreal[ic]==1:\n",
    "                        #read re\n",
    "                        re = struct.unpack(\"d\",fileContent[start_reading:start_reading+8])[0]\n",
    "                        #store it\n",
    "                        corr[ic][t][inoise] = complex(re,0.0)\n",
    "                        #update start reading\n",
    "                        start_reading = start_reading+8\n",
    "                        \n",
    "                    \n",
    "\n",
    "        #store of correlators associated to the given configuration\n",
    "        conf_dict[str(conf_number)] = corr.copy()"
   ]
  },
  {
   "cell_type": "code",
   "execution_count": 23,
   "id": "16f78040-96f7-48c6-834a-d4fbba9c76a4",
   "metadata": {},
   "outputs": [
    {
     "data": {
      "text/plain": [
       "200.0"
      ]
     },
     "execution_count": 23,
     "metadata": {},
     "output_type": "execute_result"
    }
   ],
   "source": [
    "#check on correct lenght calculations\n",
    "(len(fileContent)-header_size-corr_header_size*ncorr)/conf_len"
   ]
  },
  {
   "cell_type": "code",
   "execution_count": 25,
   "id": "70c038a9-a617-49fe-bbca-7d25c8bf95b0",
   "metadata": {},
   "outputs": [
    {
     "data": {
      "text/plain": [
       "200"
      ]
     },
     "execution_count": 25,
     "metadata": {},
     "output_type": "execute_result"
    }
   ],
   "source": [
    "#construction of array with names and numbers of configurations\n",
    "conf_names = list(conf_dict.keys())\n",
    "conf_list = [int(conf) for conf in conf_names ]\n",
    "nconf = len(conf_list)\n",
    "nconf"
   ]
  },
  {
   "cell_type": "code",
   "execution_count": 26,
   "id": "9e18a421-115e-43e5-8baa-163c53313edb",
   "metadata": {},
   "outputs": [],
   "source": [
    "#creation of a numpy array with all the correlators\n",
    "correlators = np.empty(shape=(nconf,ncorr,tvals,nnoise),dtype=complex)\n",
    "for iconf,nameconf in enumerate(conf_names):\n",
    "    correlators[iconf] = conf_dict[nameconf]"
   ]
  },
  {
   "cell_type": "code",
   "execution_count": 27,
   "id": "43534389-02c6-4f8c-8633-5c0b1ed034c4",
   "metadata": {},
   "outputs": [
    {
     "name": "stdout",
     "output_type": "stream",
     "text": [
      "(nconf, ncorrelators, tvals, nnoise)\n",
      "(200, 3, 32, 100)\n"
     ]
    }
   ],
   "source": [
    "if verbose:\n",
    "    print(\"(nconf, ncorrelators, tvals, nnoise)\")\n",
    "    print(np.shape(correlators))"
   ]
  },
  {
   "cell_type": "markdown",
   "id": "dc567d40-6c5b-499a-8fe3-6695f53fc695",
   "metadata": {},
   "source": [
    "## preliminary plots"
   ]
  },
  {
   "cell_type": "code",
   "execution_count": 29,
   "id": "bce6c2ee-33aa-418b-ad8c-85949af31540",
   "metadata": {},
   "outputs": [
    {
     "data": {
      "text/plain": [
       "[<matplotlib.lines.Line2D at 0x73a2939ec310>]"
      ]
     },
     "execution_count": 29,
     "metadata": {},
     "output_type": "execute_result"
    },
    {
     "data": {
      "image/png": "[encoded data removed]",
      "text/plain": [
       "<Figure size 640x480 with 1 Axes>"
      ]
     },
     "metadata": {},
     "output_type": "display_data"
    }
   ],
   "source": [
    "times = np.arange(tvals)\n",
    "plt.plot(times,correlators[0,0,:,1])"
   ]
  },
  {
   "cell_type": "markdown",
   "id": "8067e2ed-a91f-420d-99dd-a3878cb90f5f",
   "metadata": {},
   "source": [
    "# Jackknife Analysis"
   ]
  },
  {
   "cell_type": "code",
   "execution_count": 36,
   "id": "3fea9524-22d2-49d8-8204-98a945c12e04",
   "metadata": {},
   "outputs": [
    {
     "name": "stdout",
     "output_type": "stream",
     "text": [
      "(nconf,ncorr,tvals)\n",
      "(200, 3, 32)\n"
     ]
    }
   ],
   "source": [
    "#noise average\n",
    "correlators_navg = np.mean(correlators,axis=-1)\n",
    "\n",
    "if verbose:\n",
    "    print(\"(nconf,ncorr,tvals)\")\n",
    "    print(np.shape(correlators_navg))"
   ]
  },
  {
   "cell_type": "code",
   "execution_count": 38,
   "id": "d391fa02-3f87-4a51-bbbc-797414162052",
   "metadata": {},
   "outputs": [
    {
     "name": "stdout",
     "output_type": "stream",
     "text": [
      "(nreplicates,ncorr,tvals)\n",
      "(200, 3, 32)\n"
     ]
    }
   ],
   "source": [
    "#creation of replicates\n",
    "replicates = np.asarray( [ np.delete(correlators_navg,iconf,axis=0).mean(axis=0)  for iconf in range(nconf)] )\n",
    "\n",
    "if verbose:\n",
    "    print(\"(nreplicates,ncorr,tvals)\")\n",
    "    print(np.shape(replicates))"
   ]
  },
  {
   "cell_type": "code",
   "execution_count": 48,
   "id": "0240e635-3b1f-469c-b74e-ab6509832edd",
   "metadata": {},
   "outputs": [
    {
     "name": "stdout",
     "output_type": "stream",
     "text": [
      "(ncorr,tvals)\n",
      "(3, 32)\n",
      "(3, 32)\n"
     ]
    }
   ],
   "source": [
    "jack_mean = np.mean(replicates,axis=0)\n",
    "jack_std_re =  np.sqrt(  ( (nconf-1)/nconf ) * np.sum( (replicates.real - jack_mean.real)**2 , axis=0 ) )\n",
    "jack_std_im =  np.sqrt(  ( (nconf-1)/nconf ) * np.sum( (replicates.imag - jack_mean.imag)**2 , axis=0 ) )\n",
    "\n",
    "if verbose:\n",
    "    print(\"(ncorr,tvals)\")\n",
    "    print(np.shape(jack_mean))\n",
    "    print(np.shape(jack_std))"
   ]
  },
  {
   "cell_type": "code",
   "execution_count": 52,
   "id": "2d302c6e-37d2-4539-b9cd-2aecc46ce4d5",
   "metadata": {},
   "outputs": [
    {
     "name": "stderr",
     "output_type": "stream",
     "text": [
      "/tmp/ipykernel_16565/475753815.py:1: RuntimeWarning: invalid value encountered in divide\n",
      "  jack_std_re/jack_mean.real\n"
     ]
    },
    {
     "data": {
      "text/plain": [
       "array([[            nan,  2.79675207e-03,  2.79675128e-03,\n",
       "         2.79674976e-03,  2.79674702e-03,  2.79674218e-03,\n",
       "         2.79673361e-03,  2.79671848e-03,  2.79669177e-03,\n",
       "         2.79664459e-03,  2.79656122e-03,  2.79641382e-03,\n",
       "         2.79615301e-03,  2.79569104e-03,  2.79487166e-03,\n",
       "         2.79341588e-03,  2.79082387e-03,  2.78619699e-03,\n",
       "         2.77791362e-03,  2.76304002e-03,  2.73627154e-03,\n",
       "         2.68809505e-03,  2.60187566e-03,  2.45029375e-03,\n",
       "         2.19474882e-03,  1.79935750e-03,  1.27593237e-03,\n",
       "         7.36337473e-04,  3.41794694e-04,  1.39798577e-04,\n",
       "         2.87219441e-05,             nan],\n",
       "       [            nan, -2.81771480e-03, -2.81771416e-03,\n",
       "        -2.81771292e-03, -2.81771070e-03, -2.81770676e-03,\n",
       "        -2.81769979e-03, -2.81768750e-03, -2.81766580e-03,\n",
       "        -2.81762747e-03, -2.81755976e-03, -2.81744010e-03,\n",
       "        -2.81722847e-03, -2.81685387e-03, -2.81619000e-03,\n",
       "        -2.81501180e-03, -2.81291694e-03, -2.80918399e-03,\n",
       "        -2.80251513e-03, -2.79056977e-03, -2.76912624e-03,\n",
       "        -2.73061347e-03, -2.66170438e-03, -2.54000082e-03,\n",
       "        -2.33167808e-03, -1.99737343e-03, -1.52078039e-03,\n",
       "        -9.61488223e-04, -4.72435844e-04, -1.84330010e-04,\n",
       "        -1.37285793e-03,             nan],\n",
       "       [            nan,  2.86684771e-03,  2.86656781e-03,\n",
       "         2.86604425e-03,  2.86512928e-03,  2.86355203e-03,\n",
       "         2.86083821e-03,  2.85616189e-03,  2.84808131e-03,\n",
       "         2.83406998e-03,  2.80968976e-03,  2.76716126e-03,\n",
       "         2.69302429e-03,  2.56482550e-03,  2.34829929e-03,\n",
       "         2.00157098e-03,  1.50232964e-03,  9.10320469e-04,\n",
       "         4.04909448e-04,  1.36982787e-04,  2.10158205e-05,\n",
       "         1.35137578e-04,  4.06071173e-04,  9.42964816e-04,\n",
       "         1.58233276e-03,  2.12400967e-03,  2.50054731e-03,\n",
       "         2.73536910e-03,  2.87361114e-03,  2.95193399e-03,\n",
       "         2.99312295e-03,             nan]])"
      ]
     },
     "execution_count": 52,
     "metadata": {},
     "output_type": "execute_result"
    }
   ],
   "source": [
    "#relative std\n",
    "jack_std_re/jack_mean.real"
   ]
  },
  {
   "cell_type": "markdown",
   "id": "1bc2e16b-f9f1-4576-9572-27cef39c84d8",
   "metadata": {},
   "source": [
    "## Preliminary Plots"
   ]
  },
  {
   "cell_type": "code",
   "execution_count": 50,
   "id": "0b544aa6-d78c-4c76-b7d3-f54573d53977",
   "metadata": {},
   "outputs": [
    {
     "data": {
      "text/plain": [
       "<ErrorbarContainer object of 3 artists>"
      ]
     },
     "execution_count": 50,
     "metadata": {},
     "output_type": "execute_result"
    },
    {
     "data": {
      "image/png": "[encoded data removed]",
      "text/plain": [
       "<Figure size 640x480 with 1 Axes>"
      ]
     },
     "metadata": {},
     "output_type": "display_data"
    }
   ],
   "source": [
    "times = np.arange(tvals)\n",
    "plt.errorbar(times,jack_mean[0,:].real,yerr=jack_std_re[0,:])"
   ]
  },
  {
   "cell_type": "code",
   "execution_count": 51,
   "id": "305b216a-e023-4149-aac1-a0f74a16a1d7",
   "metadata": {},
   "outputs": [
    {
     "data": {
      "text/plain": [
       "<ErrorbarContainer object of 3 artists>"
      ]
     },
     "execution_count": 51,
     "metadata": {},
     "output_type": "execute_result"
    },
    {
     "data": {
      "image/png": "[encoded data removed]",
      "text/plain": [
       "<Figure size 640x480 with 1 Axes>"
      ]
     },
     "metadata": {},
     "output_type": "display_data"
    }
   ],
   "source": [
    "times = np.arange(tvals)\n",
    "plt.errorbar(times,jack_mean[0,:].imag,yerr=jack_std_im[0,:])"
   ]
  }
 ],
 "metadata": {
  "kernelspec": {
   "display_name": "Python 3 (ipykernel)",
   "language": "python",
   "name": "python3"
  },
  "language_info": {
   "codemirror_mode": {
    "name": "ipython",
    "version": 3
   },
   "file_extension": ".py",
   "mimetype": "text/x-python",
   "name": "python",
   "nbconvert_exporter": "python",
   "pygments_lexer": "ipython3",
   "version": "3.10.12"
  }
 },
 "nbformat": 4,
 "nbformat_minor": 5
}
